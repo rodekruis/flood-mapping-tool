{
 "cells": [
  {
   "cell_type": "code",
   "execution_count": 2,
   "metadata": {},
   "outputs": [],
   "source": [
    "from app.src import db\n",
    "\n",
    "con = db.connect()"
   ]
  },
  {
   "cell_type": "code",
   "execution_count": 3,
   "metadata": {},
   "outputs": [
    {
     "data": {
      "text/html": [
       "<pre style=\"white-space:pre;overflow-x:auto;line-height:normal;font-family:Menlo,'DejaVu Sans Mono',consolas,'Courier New',monospace\">DatabaseTable: ibis_read_geo_eqk6d4l4rbcm7pk74pax46y4ju\n",
       "  DN   int32\n",
       "  geom geospatial:geometry\n",
       "</pre>\n"
      ],
      "text/plain": [
       "DatabaseTable: ibis_read_geo_eqk6d4l4rbcm7pk74pax46y4ju\n",
       "  DN   int32\n",
       "  geom geospatial:geometry"
      ]
     },
     "execution_count": 3,
     "metadata": {},
     "output_type": "execute_result"
    }
   ],
   "source": [
    "t = con.read_geo(\n",
    "    \"output/Valencia/2025-02-17 06h/EU_E036N006T3_ENSEMBLE_FLOOD_20250217T060224_VV_EU020M_E036N006T3_20250217.geojson\"\n",
    ")\n",
    "t"
   ]
  },
  {
   "cell_type": "code",
   "execution_count": 14,
   "metadata": {},
   "outputs": [],
   "source": [
    "if \"floods\" in con.list_tables():\n",
    "    floods = con.table(\"floods\")\n",
    "else:\n",
    "    floods = con.create_table(\"floods\", schema=t.schema())\n",
    "\n",
    "con.insert(\"floods\", t)"
   ]
  },
  {
   "cell_type": "code",
   "execution_count": 15,
   "metadata": {},
   "outputs": [
    {
     "data": {
      "text/plain": [
       "<folium.features.GeoJson at 0x11847c9b0>"
      ]
     },
     "execution_count": 15,
     "metadata": {},
     "output_type": "execute_result"
    },
    {
     "data": {
      "text/html": [
       "<div style=\"width:100%;\"><div style=\"position:relative;width:100%;height:0;padding-bottom:60%;\"><span style=\"color:#565656\">Make this Notebook Trusted to load map: File -> Trust Notebook</span><iframe srcdoc=\"&lt;!DOCTYPE html&gt;\n",
       "&lt;html&gt;\n",
       "&lt;head&gt;\n",
       "    \n",
       "    &lt;meta http-equiv=&quot;content-type&quot; content=&quot;text/html; charset=UTF-8&quot; /&gt;\n",
       "    \n",
       "        &lt;script&gt;\n",
       "            L_NO_TOUCH = false;\n",
       "            L_DISABLE_3D = false;\n",
       "        &lt;/script&gt;\n",
       "    \n",
       "    &lt;style&gt;html, body {width: 100%;height: 100%;margin: 0;padding: 0;}&lt;/style&gt;\n",
       "    &lt;style&gt;#map {position:absolute;top:0;bottom:0;right:0;left:0;}&lt;/style&gt;\n",
       "    &lt;script src=&quot;https://cdn.jsdelivr.net/npm/leaflet@1.9.3/dist/leaflet.js&quot;&gt;&lt;/script&gt;\n",
       "    &lt;script src=&quot;https://code.jquery.com/jquery-3.7.1.min.js&quot;&gt;&lt;/script&gt;\n",
       "    &lt;script src=&quot;https://cdn.jsdelivr.net/npm/bootstrap@5.2.2/dist/js/bootstrap.bundle.min.js&quot;&gt;&lt;/script&gt;\n",
       "    &lt;script src=&quot;https://cdnjs.cloudflare.com/ajax/libs/Leaflet.awesome-markers/2.0.2/leaflet.awesome-markers.js&quot;&gt;&lt;/script&gt;\n",
       "    &lt;link rel=&quot;stylesheet&quot; href=&quot;https://cdn.jsdelivr.net/npm/leaflet@1.9.3/dist/leaflet.css&quot;/&gt;\n",
       "    &lt;link rel=&quot;stylesheet&quot; href=&quot;https://cdn.jsdelivr.net/npm/bootstrap@5.2.2/dist/css/bootstrap.min.css&quot;/&gt;\n",
       "    &lt;link rel=&quot;stylesheet&quot; href=&quot;https://netdna.bootstrapcdn.com/bootstrap/3.0.0/css/bootstrap-glyphicons.css&quot;/&gt;\n",
       "    &lt;link rel=&quot;stylesheet&quot; href=&quot;https://cdn.jsdelivr.net/npm/@fortawesome/fontawesome-free@6.2.0/css/all.min.css&quot;/&gt;\n",
       "    &lt;link rel=&quot;stylesheet&quot; href=&quot;https://cdnjs.cloudflare.com/ajax/libs/Leaflet.awesome-markers/2.0.2/leaflet.awesome-markers.css&quot;/&gt;\n",
       "    &lt;link rel=&quot;stylesheet&quot; href=&quot;https://cdn.jsdelivr.net/gh/python-visualization/folium/folium/templates/leaflet.awesome.rotate.min.css&quot;/&gt;\n",
       "    \n",
       "            &lt;meta name=&quot;viewport&quot; content=&quot;width=device-width,\n",
       "                initial-scale=1.0, maximum-scale=1.0, user-scalable=no&quot; /&gt;\n",
       "            &lt;style&gt;\n",
       "                #map_d16cc55625c27e9d92415a594c9addad {\n",
       "                    position: relative;\n",
       "                    width: 100.0%;\n",
       "                    height: 100.0%;\n",
       "                    left: 0.0%;\n",
       "                    top: 0.0%;\n",
       "                }\n",
       "                .leaflet-container { font-size: 1rem; }\n",
       "            &lt;/style&gt;\n",
       "        \n",
       "&lt;/head&gt;\n",
       "&lt;body&gt;\n",
       "    \n",
       "    \n",
       "            &lt;div class=&quot;folium-map&quot; id=&quot;map_d16cc55625c27e9d92415a594c9addad&quot; &gt;&lt;/div&gt;\n",
       "        \n",
       "&lt;/body&gt;\n",
       "&lt;script&gt;\n",
       "    \n",
       "    \n",
       "            var map_d16cc55625c27e9d92415a594c9addad = L.map(\n",
       "                &quot;map_d16cc55625c27e9d92415a594c9addad&quot;,\n",
       "                {\n",
       "                    center: [0.0, 0.0],\n",
       "                    crs: L.CRS.EPSG3857,\n",
       "                    ...{\n",
       "  &quot;zoom&quot;: 1,\n",
       "  &quot;zoomControl&quot;: true,\n",
       "  &quot;preferCanvas&quot;: false,\n",
       "}\n",
       "\n",
       "                }\n",
       "            );\n",
       "\n",
       "            \n",
       "\n",
       "        \n",
       "    \n",
       "            var tile_layer_fd966b8902bc35c3265d2beccb7b3d2d = L.tileLayer(\n",
       "                &quot;https://tile.openstreetmap.org/{z}/{x}/{y}.png&quot;,\n",
       "                {\n",
       "  &quot;minZoom&quot;: 0,\n",
       "  &quot;maxZoom&quot;: 19,\n",
       "  &quot;maxNativeZoom&quot;: 19,\n",
       "  &quot;noWrap&quot;: false,\n",
       "  &quot;attribution&quot;: &quot;\\u0026copy; \\u003ca href=\\&quot;https://www.openstreetmap.org/copyright\\&quot;\\u003eOpenStreetMap\\u003c/a\\u003e contributors&quot;,\n",
       "  &quot;subdomains&quot;: &quot;abc&quot;,\n",
       "  &quot;detectRetina&quot;: false,\n",
       "  &quot;tms&quot;: false,\n",
       "  &quot;opacity&quot;: 1,\n",
       "}\n",
       "\n",
       "            );\n",
       "        \n",
       "    \n",
       "            tile_layer_fd966b8902bc35c3265d2beccb7b3d2d.addTo(map_d16cc55625c27e9d92415a594c9addad);\n",
       "        \n",
       "    \n",
       "\n",
       "        function geo_json_824973a604b732d46c7148eb944b0110_onEachFeature(feature, layer) {\n",
       "            layer.on({\n",
       "            });\n",
       "        };\n",
       "        var geo_json_824973a604b732d46c7148eb944b0110 = L.geoJson(null, {\n",
       "                onEachFeature: geo_json_824973a604b732d46c7148eb944b0110_onEachFeature,\n",
       "            \n",
       "            ...{\n",
       "}\n",
       "        });\n",
       "\n",
       "        function geo_json_824973a604b732d46c7148eb944b0110_add (data) {\n",
       "            geo_json_824973a604b732d46c7148eb944b0110\n",
       "                .addData(data);\n",
       "        }\n",
       "            geo_json_824973a604b732d46c7148eb944b0110_add({&quot;bbox&quot;: [-0.905794182382381, 38.171561678660204, -0.532209616575478, 38.6222705408929], &quot;features&quot;: [{&quot;bbox&quot;: [-0.904592301741715, 38.62066802049385, -0.902589167340606, 38.6222705408929], &quot;geometry&quot;: {&quot;coordinates&quot;: [[[-0.903190107660939, 38.6222705408929], [-0.903190107660939, 38.62186991079314], [-0.902989794220828, 38.62186991079314], [-0.902989794220828, 38.621268965643495], [-0.903190107660939, 38.621268965643495], [-0.903190107660939, 38.621469280693375], [-0.903991361421383, 38.621469280693375], [-0.903991361421383, 38.62186991079314], [-0.903791047981272, 38.62186991079314], [-0.903791047981272, 38.62207022584302], [-0.904592301741715, 38.62207022584302], [-0.904592301741715, 38.621469280693375], [-0.904391988301604, 38.621469280693375], [-0.904391988301604, 38.621268965643495], [-0.904191674861494, 38.621268965643495], [-0.904191674861494, 38.62066802049385], [-0.903590734541161, 38.62066802049385], [-0.903590734541161, 38.62086833554373], [-0.902789480780717, 38.62086833554373], [-0.902789480780717, 38.621268965643495], [-0.902589167340606, 38.621268965643495], [-0.902589167340606, 38.62207022584302], [-0.902789480780717, 38.62207022584302], [-0.902789480780717, 38.6222705408929], [-0.903190107660939, 38.6222705408929]]], &quot;type&quot;: &quot;Polygon&quot;}, &quot;id&quot;: &quot;0&quot;, &quot;properties&quot;: {}, &quot;type&quot;: &quot;Feature&quot;}, {&quot;bbox&quot;: [-0.905794182382381, 38.6200670753442, -0.904391988301604, 38.621669595743256], &quot;geometry&quot;: {&quot;coordinates&quot;: [[[-0.905193242062048, 38.621669595743256], [-0.905193242062048, 38.621469280693375], [-0.905393555502159, 38.621469280693375], [-0.905393555502159, 38.621068650593614], [-0.90559386894227, 38.621068650593614], [-0.90559386894227, 38.62066802049385], [-0.905794182382381, 38.62066802049385], [-0.905794182382381, 38.620467705443964], [-0.90559386894227, 38.620467705443964], [-0.90559386894227, 38.6200670753442], [-0.905393555502159, 38.6200670753442], [-0.905393555502159, 38.62086833554373], [-0.904792615181826, 38.62086833554373], [-0.904792615181826, 38.62066802049385], [-0.904592301741715, 38.62066802049385], [-0.904592301741715, 38.620467705443964], [-0.904391988301604, 38.620467705443964], [-0.904391988301604, 38.62086833554373], [-0.904592301741715, 38.62086833554373], [-0.904592301741715, 38.621068650593614], [-0.904792615181826, 38.621068650593614], [-0.904792615181826, 38.621469280693375], [-0.904992928621937, 38.621469280693375], [-0.904992928621937, 38.621669595743256], [-0.905193242062048, 38.621669595743256]]], &quot;type&quot;: &quot;Polygon&quot;}, &quot;id&quot;: &quot;1&quot;, &quot;properties&quot;: {}, &quot;type&quot;: &quot;Feature&quot;}, {&quot;bbox&quot;: [-0.905193242062048, 38.620467705443964, -0.904992928621937, 38.62066802049385], &quot;geometry&quot;: {&quot;coordinates&quot;: [[[-0.905193242062048, 38.62066802049385], [-0.905193242062048, 38.620467705443964], [-0.904992928621937, 38.620467705443964], [-0.904992928621937, 38.62066802049385], [-0.905193242062048, 38.62066802049385]]], &quot;type&quot;: &quot;Polygon&quot;}, &quot;id&quot;: &quot;2&quot;, &quot;properties&quot;: {}, &quot;type&quot;: &quot;Feature&quot;}, {&quot;bbox&quot;: [-0.905393555502159, 38.61966644524444, -0.905193242062048, 38.6200670753442], &quot;geometry&quot;: {&quot;coordinates&quot;: [[[-0.905393555502159, 38.6200670753442], [-0.905393555502159, 38.61966644524444], [-0.905193242062048, 38.61966644524444], [-0.905193242062048, 38.6200670753442], [-0.905393555502159, 38.6200670753442]]], &quot;type&quot;: &quot;Polygon&quot;}, &quot;id&quot;: &quot;3&quot;, &quot;properties&quot;: {}, &quot;type&quot;: &quot;Feature&quot;}, {&quot;bbox&quot;: [-0.896780077577389, 38.50428497651287, -0.893975689415835, 38.50749001731097], &quot;geometry&quot;: {&quot;coordinates&quot;: [[[-0.896780077577389, 38.50749001731097], [-0.896780077577389, 38.50688907216133], [-0.896379450697167, 38.50688907216133], [-0.896379450697167, 38.50668875711145], [-0.896579764137278, 38.50668875711145], [-0.896579764137278, 38.50648844206157], [-0.896379450697167, 38.50648844206157], [-0.896379450697167, 38.506087811961805], [-0.895978823816945, 38.506087811961805], [-0.895978823816945, 38.505887496911924], [-0.896179137257056, 38.505887496911924], [-0.896179137257056, 38.50548686681216], [-0.895978823816945, 38.50548686681216], [-0.895978823816945, 38.50488592166252], [-0.895578196936723, 38.50488592166252], [-0.895578196936723, 38.50468560661263], [-0.894776943176279, 38.50468560661263], [-0.894776943176279, 38.50488592166252], [-0.894576629736168, 38.50488592166252], [-0.894576629736168, 38.50448529156275], [-0.894376316296057, 38.50448529156275], [-0.894376316296057, 38.50428497651287], [-0.894176002855946, 38.50428497651287], [-0.894176002855946, 38.50448529156275], [-0.893975689415835, 38.50448529156275], [-0.893975689415835, 38.50468560661263], [-0.894176002855946, 38.50468560661263], [-0.894176002855946, 38.5050862367124], [-0.894376316296057, 38.5050862367124], [-0.894376316296057, 38.50528655176228], [-0.894176002855946, 38.50528655176228], [-0.894176002855946, 38.505687181862044], [-0.894376316296057, 38.505687181862044], [-0.894376316296057, 38.505887496911924], [-0.894576629736168, 38.505887496911924], [-0.894576629736168, 38.506087811961805], [-0.895377883496612, 38.506087811961805], [-0.895377883496612, 38.506288127011686], [-0.895578196936723, 38.506288127011686], [-0.895578196936723, 38.50648844206157], [-0.895978823816945, 38.50648844206157], [-0.895978823816945, 38.50668875711145], [-0.896179137257056, 38.50668875711145], [-0.896179137257056, 38.50708938721121], [-0.896379450697167, 38.50708938721121], [-0.896379450697167, 38.50728970226109], [-0.896579764137278, 38.50728970226109], [-0.896579764137278, 38.50749001731097], [-0.896780077577389, 38.50749001731097]], [[-0.895778510376834, 38.50548686681216], [-0.895778510376834, 38.5050862367124], [-0.895578196936723, 38.5050862367124], [-0.895578196936723, 38.50548686681216], [-0.895778510376834, 38.50548686681216]], [[-0.895377883496612, 38.5050862367124], [-0.895377883496612, 38.50488592166252], [-0.895177570056501, 38.50488592166252], [-0.895177570056501, 38.5050862367124], [-0.895377883496612, 38.5050862367124]]], &quot;type&quot;: &quot;Polygon&quot;}, &quot;id&quot;: &quot;4&quot;, &quot;properties&quot;: {}, &quot;type&quot;: &quot;Feature&quot;}, {&quot;bbox&quot;: [-0.535214318177142, 38.24607887721601, -0.532209616575478, 38.24788171266494], &quot;geometry&quot;: {&quot;coordinates&quot;: [[[-0.53481369129692, 38.24788171266494], [-0.53481369129692, 38.24768139761506], [-0.534613377856809, 38.24768139761506], [-0.534613377856809, 38.24748108256518], [-0.53481369129692, 38.24748108256518], [-0.53481369129692, 38.2472807675153], [-0.535214318177142, 38.2472807675153], [-0.535214318177142, 38.24708045246542], [-0.53481369129692, 38.24708045246542], [-0.53481369129692, 38.24667982236566], [-0.535014004737031, 38.24667982236566], [-0.535014004737031, 38.246479507315776], [-0.535214318177142, 38.246479507315776], [-0.535214318177142, 38.246279192265895], [-0.535014004737031, 38.246279192265895], [-0.535014004737031, 38.24607887721601], [-0.53481369129692, 38.24607887721601], [-0.53481369129692, 38.246279192265895], [-0.534613377856809, 38.246279192265895], [-0.534613377856809, 38.24607887721601], [-0.534012437536476, 38.24607887721601], [-0.534012437536476, 38.246279192265895], [-0.533411497216143, 38.246279192265895], [-0.533411497216143, 38.246479507315776], [-0.533211183776032, 38.246479507315776], [-0.533211183776032, 38.24688013741554], [-0.533010870335921, 38.24688013741554], [-0.533010870335921, 38.24708045246542], [-0.53281055689581, 38.24708045246542], [-0.53281055689581, 38.2472807675153], [-0.5326102434557, 38.2472807675153], [-0.5326102434557, 38.24708045246542], [-0.532209616575478, 38.24708045246542], [-0.532209616575478, 38.24768139761506], [-0.5326102434557, 38.24768139761506], [-0.5326102434557, 38.24748108256518], [-0.533611810656254, 38.24748108256518], [-0.533611810656254, 38.2472807675153], [-0.534413064416698, 38.2472807675153], [-0.534413064416698, 38.24708045246542], [-0.534212750976587, 38.24708045246542], [-0.534212750976587, 38.24688013741554], [-0.533812124096365, 38.24688013741554], [-0.533812124096365, 38.24748108256518], [-0.534012437536476, 38.24748108256518], [-0.534012437536476, 38.24768139761506], [-0.534212750976587, 38.24768139761506], [-0.534212750976587, 38.24788171266494], [-0.53481369129692, 38.24788171266494]]], &quot;type&quot;: &quot;Polygon&quot;}, &quot;id&quot;: &quot;5&quot;, &quot;properties&quot;: {}, &quot;type&quot;: &quot;Feature&quot;}, {&quot;bbox&quot;: [-0.61574032110174, 38.171561678660204, -0.615540007661629, 38.171761993710085], &quot;geometry&quot;: {&quot;coordinates&quot;: [[[-0.61574032110174, 38.171761993710085], [-0.61574032110174, 38.171561678660204], [-0.615540007661629, 38.171561678660204], [-0.615540007661629, 38.171761993710085], [-0.61574032110174, 38.171761993710085]]], &quot;type&quot;: &quot;Polygon&quot;}, &quot;id&quot;: &quot;6&quot;, &quot;properties&quot;: {}, &quot;type&quot;: &quot;Feature&quot;}], &quot;type&quot;: &quot;FeatureCollection&quot;});\n",
       "        geo_json_824973a604b732d46c7148eb944b0110.setStyle(function(feature) {return feature.properties.style;});\n",
       "\n",
       "        \n",
       "    \n",
       "            geo_json_824973a604b732d46c7148eb944b0110.addTo(map_d16cc55625c27e9d92415a594c9addad);\n",
       "        \n",
       "&lt;/script&gt;\n",
       "&lt;/html&gt;\" style=\"position:absolute;width:100%;height:100%;left:0;top:0;border:none !important;\" allowfullscreen webkitallowfullscreen mozallowfullscreen></iframe></div></div>"
      ],
      "text/plain": [
       "<folium.folium.Map at 0x10d2a6420>"
      ]
     },
     "execution_count": 15,
     "metadata": {},
     "output_type": "execute_result"
    }
   ],
   "source": [
    "import folium\n",
    "\n",
    "m = folium.Map()\n",
    "folium.GeoJson(t.geom.to_pandas().set_crs(4326)).add_to(m)\n",
    "m"
   ]
  }
 ],
 "metadata": {
  "kernelspec": {
   "display_name": ".venv",
   "language": "python",
   "name": "python3"
  },
  "language_info": {
   "codemirror_mode": {
    "name": "ipython",
    "version": 3
   },
   "file_extension": ".py",
   "mimetype": "text/x-python",
   "name": "python",
   "nbconvert_exporter": "python",
   "pygments_lexer": "ipython3",
   "version": "3.12.6"
  }
 },
 "nbformat": 4,
 "nbformat_minor": 2
}
